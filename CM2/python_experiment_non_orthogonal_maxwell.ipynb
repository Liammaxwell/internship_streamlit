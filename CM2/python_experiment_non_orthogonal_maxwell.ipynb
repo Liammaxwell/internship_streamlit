{
  "cells": [
    {
      "cell_type": "code",
      "execution_count": 1,
      "id": "0",
      "metadata": {
        "id": "0"
      },
      "outputs": [],
      "source": [
        "import numpy as np\n",
        "import warnings\n",
        "import matplotlib.pyplot as plt\n",
        "from sklearn.base import BaseEstimator\n",
        "warnings.simplefilter('ignore')"
      ]
    },
    {
      "cell_type": "markdown",
      "id": "1",
      "metadata": {
        "id": "1"
      },
      "source": [
        "We import a clone of hdmpy to use rlasso functions in python\n",
        "```\n",
        "!pip install multiprocess\n",
        "!pip install pyreadr\n",
        "!git clone https://github.com/maxhuppertz/hdmpy.git\n",
        "```"
      ]
    },
    {
      "cell_type": "code",
      "execution_count": 2,
      "id": "2",
      "metadata": {
        "colab": {
          "base_uri": "https://localhost:8080/"
        },
        "id": "2",
        "outputId": "63752a0f-09eb-49f9-a9b3-c12c4b2b913f"
      },
      "outputs": [
        {
          "output_type": "stream",
          "name": "stdout",
          "text": [
            "Collecting multiprocess\n",
            "  Downloading multiprocess-0.70.17-py311-none-any.whl.metadata (7.2 kB)\n",
            "Collecting dill>=0.3.9 (from multiprocess)\n",
            "  Downloading dill-0.3.9-py3-none-any.whl.metadata (10 kB)\n",
            "Downloading multiprocess-0.70.17-py311-none-any.whl (144 kB)\n",
            "\u001b[?25l   \u001b[90m━━━━━━━━━━━━━━━━━━━━━━━━━━━━━━━━━━━━━━━━\u001b[0m \u001b[32m0.0/144.3 kB\u001b[0m \u001b[31m?\u001b[0m eta \u001b[36m-:--:--\u001b[0m\r\u001b[2K   \u001b[90m━━━━━━━━━━━━━━━━━━━━━━━━━━━━━━━━━━━━━━━━\u001b[0m \u001b[32m144.3/144.3 kB\u001b[0m \u001b[31m5.1 MB/s\u001b[0m eta \u001b[36m0:00:00\u001b[0m\n",
            "\u001b[?25hDownloading dill-0.3.9-py3-none-any.whl (119 kB)\n",
            "\u001b[?25l   \u001b[90m━━━━━━━━━━━━━━━━━━━━━━━━━━━━━━━━━━━━━━━━\u001b[0m \u001b[32m0.0/119.4 kB\u001b[0m \u001b[31m?\u001b[0m eta \u001b[36m-:--:--\u001b[0m\r\u001b[2K   \u001b[90m━━━━━━━━━━━━━━━━━━━━━━━━━━━━━━━━━━━━━━━━\u001b[0m \u001b[32m119.4/119.4 kB\u001b[0m \u001b[31m9.1 MB/s\u001b[0m eta \u001b[36m0:00:00\u001b[0m\n",
            "\u001b[?25hInstalling collected packages: dill, multiprocess\n",
            "Successfully installed dill-0.3.9 multiprocess-0.70.17\n",
            "Collecting pyreadr\n",
            "  Downloading pyreadr-0.5.2-cp311-cp311-manylinux_2_17_x86_64.manylinux2014_x86_64.whl.metadata (1.2 kB)\n",
            "Requirement already satisfied: pandas>=1.2.0 in /usr/local/lib/python3.11/dist-packages (from pyreadr) (2.2.2)\n",
            "Requirement already satisfied: numpy>=1.23.2 in /usr/local/lib/python3.11/dist-packages (from pandas>=1.2.0->pyreadr) (1.26.4)\n",
            "Requirement already satisfied: python-dateutil>=2.8.2 in /usr/local/lib/python3.11/dist-packages (from pandas>=1.2.0->pyreadr) (2.8.2)\n",
            "Requirement already satisfied: pytz>=2020.1 in /usr/local/lib/python3.11/dist-packages (from pandas>=1.2.0->pyreadr) (2025.1)\n",
            "Requirement already satisfied: tzdata>=2022.7 in /usr/local/lib/python3.11/dist-packages (from pandas>=1.2.0->pyreadr) (2025.1)\n",
            "Requirement already satisfied: six>=1.5 in /usr/local/lib/python3.11/dist-packages (from python-dateutil>=2.8.2->pandas>=1.2.0->pyreadr) (1.17.0)\n",
            "Downloading pyreadr-0.5.2-cp311-cp311-manylinux_2_17_x86_64.manylinux2014_x86_64.whl (416 kB)\n",
            "\u001b[2K   \u001b[90m━━━━━━━━━━━━━━━━━━━━━━━━━━━━━━━━━━━━━━━━\u001b[0m \u001b[32m416.0/416.0 kB\u001b[0m \u001b[31m7.3 MB/s\u001b[0m eta \u001b[36m0:00:00\u001b[0m\n",
            "\u001b[?25hInstalling collected packages: pyreadr\n",
            "Successfully installed pyreadr-0.5.2\n",
            "Cloning into 'hdmpy'...\n",
            "remote: Enumerating objects: 70, done.\u001b[K\n",
            "remote: Counting objects: 100% (70/70), done.\u001b[K\n",
            "remote: Compressing objects: 100% (49/49), done.\u001b[K\n",
            "remote: Total 70 (delta 39), reused 52 (delta 21), pack-reused 0 (from 0)\u001b[K\n",
            "Receiving objects: 100% (70/70), 25.30 KiB | 6.33 MiB/s, done.\n",
            "Resolving deltas: 100% (39/39), done.\n"
          ]
        }
      ],
      "source": [
        "!pip install multiprocess\n",
        "!pip install pyreadr\n",
        "!git clone https://github.com/maxhuppertz/hdmpy.git"
      ]
    },
    {
      "cell_type": "code",
      "execution_count": 3,
      "id": "3",
      "metadata": {
        "id": "3"
      },
      "outputs": [],
      "source": [
        "import sys\n",
        "sys.path.insert(1, \"./hdmpy\")\n",
        "import hdmpy"
      ]
    },
    {
      "cell_type": "code",
      "execution_count": 4,
      "id": "4",
      "metadata": {
        "id": "4"
      },
      "outputs": [],
      "source": [
        "# An estimator class that runs the lasso with theoretically driven penalty choice.\n",
        "# Better in small samples than cross-validation and also faster computationally\n",
        "\n",
        "class RLasso(BaseEstimator):\n",
        "\n",
        "    def __init__(self, *, post=False):\n",
        "        self.post = post\n",
        "\n",
        "    def fit(self, X, y):\n",
        "        self.rlasso_ = hdmpy.rlasso(X, y, post=self.post)\n",
        "        return self\n",
        "\n",
        "    @property\n",
        "    def coef_(self):\n",
        "        return np.array(self.rlasso_.est['beta']).flatten()\n",
        "\n",
        "    def predict(self, X):\n",
        "        return X @ self.coef_ + np.array(self.rlasso_.est['intercept'])"
      ]
    },
    {
      "cell_type": "code",
      "execution_count": 5,
      "id": "5",
      "metadata": {
        "id": "5"
      },
      "outputs": [],
      "source": [
        "# A simple experimental data generating process. No effect heterogeneity.\n",
        "def gen_data(n, d, p, delta, base):\n",
        "    X = np.random.normal(0, 1, size=(n, d))\n",
        "    D = np.random.binomial(1, p, size=(n,))\n",
        "    y0 = base - X[:, 0] + np.random.normal(0, .1, size=(n,))\n",
        "    y1 = delta + base - X[:, 0] + np.random.normal(0, .1, size=(n,))\n",
        "    y = y1 * D + y0 * (1 - D)\n",
        "    return y, D, X"
      ]
    },
    {
      "cell_type": "code",
      "execution_count": 6,
      "id": "6",
      "metadata": {
        "id": "6"
      },
      "outputs": [],
      "source": [
        "n = 100  # n samples\n",
        "d = 100  # n features\n",
        "delta = 1.0  # treatment effect\n",
        "base = .3  # baseline outcome"
      ]
    },
    {
      "cell_type": "code",
      "execution_count": 7,
      "id": "7",
      "metadata": {
        "id": "7"
      },
      "outputs": [],
      "source": [
        "# Simple two means estimate and calculation of variance\n",
        "def twomeans(y, D):\n",
        "    hat0 = np.mean(y[D == 0])  # mean of outcome of un-treated\n",
        "    hat1 = np.mean(y[D == 1])  # mean of outcome of treated\n",
        "    V0 = np.var(y[D == 0]) / np.mean(1 - D)  # asymptotic variance of the mean of outcome of untreated\n",
        "    V1 = np.var(y[D == 1]) / np.mean(D)  # asymptotic variance of the mean of outcome of treated\n",
        "    hat = hat1 - hat0  # estimate of effect\n",
        "    stderr = np.sqrt((V0 + V1) / n)  # standard error of estimate of effect\n",
        "    return hat, stderr"
      ]
    },
    {
      "cell_type": "code",
      "execution_count": 8,
      "id": "8",
      "metadata": {
        "colab": {
          "base_uri": "https://localhost:8080/"
        },
        "id": "8",
        "outputId": "6efa6f26-2fc6-417f-cf22-dd53cdc194df"
      },
      "outputs": [
        {
          "output_type": "execute_result",
          "data": {
            "text/plain": [
              "(0.8018889598126377, 0.2469727302839426)"
            ]
          },
          "metadata": {},
          "execution_count": 8
        }
      ],
      "source": [
        "np.random.seed(123)\n",
        "y, D, X = gen_data(n, d, .2, delta, base)  # generate RCT data\n",
        "twomeans(y, D)  # calculate estimation quantities"
      ]
    },
    {
      "cell_type": "code",
      "execution_count": 9,
      "id": "9",
      "metadata": {
        "id": "9"
      },
      "outputs": [],
      "source": [
        "from sklearn.linear_model import LinearRegression\n",
        "\n",
        "\n",
        "# We implement the partialling out version of OLS (for pedagogical purposes)\n",
        "def partialling_out(y, D, W):\n",
        "    yres = y - LinearRegression().fit(W, y).predict(W)  # residualize outcome with OLS\n",
        "    Dres = D - LinearRegression().fit(W, D).predict(W)  # residualize treatment with OLS\n",
        "    hat = np.mean(yres * Dres) / np.mean(Dres**2)  # calculate final residual ~ residual ols estimate\n",
        "    epsilon = yres - hat * Dres  # calculate residual of final regression; epsilon in the BLP decomposition\n",
        "    V = np.mean(epsilon**2 * Dres**2) / np.mean(Dres**2)**2  # calculate variance of effect\n",
        "    return hat, np.sqrt(V / y.shape[0])  # return estimate and standard error"
      ]
    },
    {
      "cell_type": "code",
      "execution_count": 10,
      "id": "10",
      "metadata": {
        "colab": {
          "base_uri": "https://localhost:8080/"
        },
        "id": "10",
        "outputId": "89476e4f-a4ab-43b5-cf86-54d48feba25b"
      },
      "outputs": [
        {
          "output_type": "execute_result",
          "data": {
            "text/plain": [
              "(0.5083139285495434, 0.07789857224298082)"
            ]
          },
          "metadata": {},
          "execution_count": 10
        }
      ],
      "source": [
        "partialling_out(y, D, np.hstack([D * X, X]))"
      ]
    },
    {
      "cell_type": "code",
      "execution_count": 11,
      "id": "11",
      "metadata": {
        "id": "11"
      },
      "outputs": [],
      "source": [
        "# Now we simply replace OLS with Lasso to implement the Double Lasso process\n",
        "def double_lasso(y, D, W):\n",
        "    yres = y - RLasso().fit(W, y).predict(W)  # residualize outcome with Lasso\n",
        "    Dres = D - RLasso().fit(W, D).predict(W)  # residualize treatment with Lasso\n",
        "    # rest is the same as in the OLS case\n",
        "    hat = np.mean(yres * Dres) / np.mean(Dres**2)\n",
        "    epsilon = yres - hat * Dres\n",
        "    V = np.mean(epsilon**2 * Dres**2) / np.mean(Dres**2)**2\n",
        "    return hat, np.sqrt(V / y.shape[0])"
      ]
    },
    {
      "cell_type": "code",
      "execution_count": 12,
      "id": "12",
      "metadata": {
        "colab": {
          "base_uri": "https://localhost:8080/"
        },
        "id": "12",
        "outputId": "f2dc119c-bbd5-4c85-b496-39fb22e37803"
      },
      "outputs": [
        {
          "output_type": "execute_result",
          "data": {
            "text/plain": [
              "(0.9951576009987022, 0.04469042128095983)"
            ]
          },
          "metadata": {},
          "execution_count": 12
        }
      ],
      "source": [
        "double_lasso(y, D, np.hstack([D * X, X]))"
      ]
    },
    {
      "cell_type": "code",
      "execution_count": 13,
      "id": "13",
      "metadata": {
        "id": "13"
      },
      "outputs": [],
      "source": [
        "# We now check the distributional properties of the different estimators across experiments\n",
        "# First is the simple two means estimate\n",
        "\n",
        "# we will keep track of coverage (truth is in CI) and of the point estimate and stderr\n",
        "cov, hats, stderrs = [], [], []\n",
        "for _ in range(100):\n",
        "    y, D, X = gen_data(n, d, .2, delta, base)\n",
        "    hat, stderr = twomeans(y, D)\n",
        "    ci = [hat - 1.96 * stderr, hat + 1.96 * stderr]  # 95% confidence interval\n",
        "    hats += [hat]\n",
        "    stderrs += [stderr]\n",
        "    cov += [(ci[0] <= delta) & (delta <= ci[1])]  # 1 if CI contains the true parameter"
      ]
    },
    {
      "cell_type": "code",
      "execution_count": 14,
      "id": "14",
      "metadata": {
        "colab": {
          "base_uri": "https://localhost:8080/"
        },
        "id": "14",
        "outputId": "5284aee1-1fc1-4168-b595-a6321ec0ddcb"
      },
      "outputs": [
        {
          "output_type": "execute_result",
          "data": {
            "text/plain": [
              "0.96"
            ]
          },
          "metadata": {},
          "execution_count": 14
        }
      ],
      "source": [
        "np.mean(cov)  # average coverage (should be .95 ideally)"
      ]
    },
    {
      "cell_type": "code",
      "execution_count": 15,
      "id": "15",
      "metadata": {
        "colab": {
          "base_uri": "https://localhost:8080/",
          "height": 432
        },
        "id": "15",
        "outputId": "5a7ba67c-4684-43e4-f5e2-1887bcd399dc"
      },
      "outputs": [
        {
          "output_type": "display_data",
          "data": {
            "text/plain": [
              "<Figure size 640x480 with 1 Axes>"
            ],
            "image/png": "[encoded data removed]"
          },
          "metadata": {}
        }
      ],
      "source": [
        "# distribution of estimates\n",
        "plt.hist(hats)\n",
        "plt.show()"
      ]
    },
    {
      "cell_type": "code",
      "execution_count": 16,
      "id": "16",
      "metadata": {
        "colab": {
          "base_uri": "https://localhost:8080/"
        },
        "id": "16",
        "outputId": "d0670bad-897d-403d-c772-1ab94250efd7"
      },
      "outputs": [
        {
          "output_type": "execute_result",
          "data": {
            "text/plain": [
              "1.004605573753389"
            ]
          },
          "metadata": {},
          "execution_count": 16
        }
      ],
      "source": [
        "# mean of estimate; measures how biased the estimate is (should be =delta ideally)\n",
        "np.mean(hats)"
      ]
    },
    {
      "cell_type": "code",
      "execution_count": 17,
      "id": "17",
      "metadata": {
        "colab": {
          "base_uri": "https://localhost:8080/"
        },
        "id": "17",
        "outputId": "77405745-4949-42fa-f0ce-d57fdb20a40e"
      },
      "outputs": [
        {
          "output_type": "execute_result",
          "data": {
            "text/plain": [
              "0.22134842744604127"
            ]
          },
          "metadata": {},
          "execution_count": 17
        }
      ],
      "source": [
        "# standard deviation of estimates; should be close to the standard errors we calculated for the CIs\n",
        "np.std(hats)"
      ]
    },
    {
      "cell_type": "code",
      "execution_count": 18,
      "id": "18",
      "metadata": {
        "colab": {
          "base_uri": "https://localhost:8080/"
        },
        "id": "18",
        "outputId": "bf9ca8f9-3a19-4035-ff21-93daf2c8b6f0"
      },
      "outputs": [
        {
          "output_type": "execute_result",
          "data": {
            "text/plain": [
              "0.23873338367929242"
            ]
          },
          "metadata": {},
          "execution_count": 18
        }
      ],
      "source": [
        "np.mean(stderrs)"
      ]
    },
    {
      "cell_type": "code",
      "execution_count": 19,
      "id": "19",
      "metadata": {
        "id": "19"
      },
      "outputs": [],
      "source": [
        "# Let's repeat this for the partialling out process (OLS), controlling for X\n",
        "# we will keep track of coverage (truth is in CI) and of the point estimate and stderr\n",
        "cov, hats, stderrs = [], [], []\n",
        "for _ in range(100):\n",
        "    y, D, X = gen_data(n, d, .2, delta, base)\n",
        "    hat, stderr = partialling_out(y, D, X)\n",
        "    ci = [hat - 1.96 * stderr, hat + 1.96 * stderr]  # 95% confidence interval\n",
        "    hats += [hat]\n",
        "    stderrs += [stderr]\n",
        "    cov += [(ci[0] <= delta) & (delta <= ci[1])]  # 1 if CI contains the true parameter"
      ]
    },
    {
      "cell_type": "code",
      "execution_count": 20,
      "id": "20",
      "metadata": {
        "colab": {
          "base_uri": "https://localhost:8080/"
        },
        "id": "20",
        "outputId": "eb152ad5-a126-4c23-f174-b55cb200cca5"
      },
      "outputs": [
        {
          "output_type": "execute_result",
          "data": {
            "text/plain": [
              "0.22"
            ]
          },
          "metadata": {},
          "execution_count": 20
        }
      ],
      "source": [
        "np.mean(cov)"
      ]
    },
    {
      "cell_type": "code",
      "execution_count": 21,
      "id": "21",
      "metadata": {
        "colab": {
          "base_uri": "https://localhost:8080/",
          "height": 430
        },
        "id": "21",
        "outputId": "f8ffda89-6657-45dc-b754-8690b7a90c83"
      },
      "outputs": [
        {
          "output_type": "display_data",
          "data": {
            "text/plain": [
              "<Figure size 640x480 with 1 Axes>"
            ],
            "image/png": "[encoded data removed]"
          },
          "metadata": {}
        }
      ],
      "source": [
        "plt.hist(hats)\n",
        "plt.show()"
      ]
    },
    {
      "cell_type": "code",
      "execution_count": 22,
      "id": "22",
      "metadata": {
        "colab": {
          "base_uri": "https://localhost:8080/"
        },
        "id": "22",
        "outputId": "d47577e8-f0d5-4d00-d01f-4d7bde38c762"
      },
      "outputs": [
        {
          "output_type": "execute_result",
          "data": {
            "text/plain": [
              "0.6496911444986969"
            ]
          },
          "metadata": {},
          "execution_count": 22
        }
      ],
      "source": [
        "np.mean(hats)  # ols is heavily biased... mean of estimates very far from delta=1"
      ]
    },
    {
      "cell_type": "code",
      "execution_count": 23,
      "id": "23",
      "metadata": {
        "colab": {
          "base_uri": "https://localhost:8080/"
        },
        "id": "23",
        "outputId": "54b94587-8455-4cca-a6c6-324608f80ee5"
      },
      "outputs": [
        {
          "output_type": "execute_result",
          "data": {
            "text/plain": [
              "0.22677502074131992"
            ]
          },
          "metadata": {},
          "execution_count": 23
        }
      ],
      "source": [
        "np.std(hats)"
      ]
    },
    {
      "cell_type": "code",
      "execution_count": 24,
      "id": "24",
      "metadata": {
        "colab": {
          "base_uri": "https://localhost:8080/"
        },
        "id": "24",
        "outputId": "c9b7d7f7-2374-4547-f64c-188a48cd8c4c"
      },
      "outputs": [
        {
          "output_type": "execute_result",
          "data": {
            "text/plain": [
              "0.11412663748200366"
            ]
          },
          "metadata": {},
          "execution_count": 24
        }
      ],
      "source": [
        "# standard error severely under estimates the variance of the estimate; all this is due to overfitting\n",
        "np.mean(stderrs)"
      ]
    },
    {
      "cell_type": "code",
      "execution_count": 26,
      "id": "25",
      "metadata": {
        "colab": {
          "base_uri": "https://localhost:8080/"
        },
        "id": "25",
        "outputId": "12c24aee-4121-4a8e-e882-e583e5a0c428"
      },
      "outputs": [
        {
          "output_type": "stream",
          "name": "stderr",
          "text": [
            "[Parallel(n_jobs=-1)]: Using backend LokyBackend with 2 concurrent workers.\n",
            "[Parallel(n_jobs=-1)]: Done  28 tasks      | elapsed:    8.4s\n",
            "[Parallel(n_jobs=-1)]: Done 100 out of 100 | elapsed:   21.0s finished\n"
          ]
        }
      ],
      "source": [
        "# Now let's try the double Lasso. Because it's computationally expensive\n",
        "# we'll do the experiments in parallel. Python makes parallelism very simple\n",
        "from joblib import Parallel, delayed  # we import these two functions\n",
        "\n",
        "\n",
        "# we wrap our experiment process in a function, which is supposed to run a\n",
        "# a single experiment\n",
        "def exp(it, n, d):\n",
        "    np.random.seed(it)  # we draw a different seed for each experiment\n",
        "    y, D, X = gen_data(n, d, .2, delta, base)  # we generate data\n",
        "    hat, stderr = double_lasso(y, D, X)  # we apply the double lasso process\n",
        "    ci = [hat - 1.96 * stderr, hat + 1.96 * stderr]\n",
        "    # return estimate, standard error and (1 if CI contains the true parameter)\n",
        "    return hat, stderr, (ci[0] <= delta) & (delta <= ci[1])\n",
        "\n",
        "\n",
        "# Now here is how you run any function in parallel multiple times\n",
        "# It's a simple parallel for loop.\n",
        "res = Parallel(n_jobs=-1, verbose=3)(delayed(exp)(it, n, d) for it in range(100))"
      ]
    },
    {
      "cell_type": "code",
      "execution_count": 27,
      "id": "26",
      "metadata": {
        "id": "26"
      },
      "outputs": [],
      "source": [
        "# This simply takes the list of triples and turns it into a triple of lists :)\n",
        "# good trick to know\n",
        "hats, stderrs, cov = zip(*res)"
      ]
    },
    {
      "cell_type": "code",
      "execution_count": 28,
      "id": "27",
      "metadata": {
        "colab": {
          "base_uri": "https://localhost:8080/"
        },
        "id": "27",
        "outputId": "661030be-c9a9-4555-d04c-26382ab981cf"
      },
      "outputs": [
        {
          "output_type": "execute_result",
          "data": {
            "text/plain": [
              "0.91"
            ]
          },
          "metadata": {},
          "execution_count": 28
        }
      ],
      "source": [
        "np.mean(cov)  # much better coverage than OLS"
      ]
    },
    {
      "cell_type": "code",
      "execution_count": 29,
      "id": "28",
      "metadata": {
        "colab": {
          "base_uri": "https://localhost:8080/",
          "height": 432
        },
        "id": "28",
        "outputId": "1256d287-2bff-46d2-eb7f-0af763d08c13"
      },
      "outputs": [
        {
          "output_type": "display_data",
          "data": {
            "text/plain": [
              "<Figure size 640x480 with 1 Axes>"
            ],
            "image/png": "[encoded data removed]"
          },
          "metadata": {}
        }
      ],
      "source": [
        "plt.hist(hats)\n",
        "plt.show()"
      ]
    },
    {
      "cell_type": "code",
      "execution_count": 30,
      "id": "29",
      "metadata": {
        "colab": {
          "base_uri": "https://localhost:8080/"
        },
        "id": "29",
        "outputId": "c660f9a3-0ed2-48f1-8cda-f1a4d45204dd"
      },
      "outputs": [
        {
          "output_type": "execute_result",
          "data": {
            "text/plain": [
              "0.9885129415998108"
            ]
          },
          "metadata": {},
          "execution_count": 30
        }
      ],
      "source": [
        "np.mean(hats)  # much closer to 1... (almost the same as two-means)"
      ]
    },
    {
      "cell_type": "code",
      "execution_count": 31,
      "id": "30",
      "metadata": {
        "colab": {
          "base_uri": "https://localhost:8080/"
        },
        "id": "30",
        "outputId": "ea5941c8-9ea9-4a13-f9fc-e1562dffc48e"
      },
      "outputs": [
        {
          "output_type": "execute_result",
          "data": {
            "text/plain": [
              "0.03594508729115616"
            ]
          },
          "metadata": {},
          "execution_count": 31
        }
      ],
      "source": [
        "np.std(hats)  # standard deviation much smaller than two means, which did not adjust for X"
      ]
    },
    {
      "cell_type": "code",
      "execution_count": 32,
      "id": "31",
      "metadata": {
        "colab": {
          "base_uri": "https://localhost:8080/"
        },
        "id": "31",
        "outputId": "c90b9895-1c1b-4f4a-e68a-7ec08f2eb8ea"
      },
      "outputs": [
        {
          "output_type": "execute_result",
          "data": {
            "text/plain": [
              "0.03399510356178103"
            ]
          },
          "metadata": {},
          "execution_count": 32
        }
      ],
      "source": [
        "np.mean(stderrs)  # and close to the calculate standard errors; we correctly estimated uncertainty"
      ]
    },
    {
      "cell_type": "code",
      "execution_count": 33,
      "id": "32",
      "metadata": {
        "colab": {
          "base_uri": "https://localhost:8080/"
        },
        "id": "32",
        "outputId": "9722b6c4-3087-46c1-fb2d-65e2a2623092"
      },
      "outputs": [
        {
          "output_type": "stream",
          "name": "stderr",
          "text": [
            "[Parallel(n_jobs=-1)]: Using backend LokyBackend with 2 concurrent workers.\n",
            "[Parallel(n_jobs=-1)]: Done  52 tasks      | elapsed:    5.8s\n",
            "[Parallel(n_jobs=-1)]: Done 100 out of 100 | elapsed:    9.0s finished\n"
          ]
        }
      ],
      "source": [
        "# Let's see what would happen if we just run a single lasso\n",
        "from joblib import Parallel, delayed\n",
        "\n",
        "\n",
        "def exp(it, n, d):\n",
        "    np.random.seed(it)\n",
        "    y, D, X = gen_data(n, d, .2, delta, base)\n",
        "    hat = RLasso().fit(np.hstack([D.reshape(-1, 1), X]), y).coef_[0]\n",
        "    return hat  # no obvious way to account for uncertainty\n",
        "\n",
        "\n",
        "res = Parallel(n_jobs=-1, verbose=3)(delayed(exp)(it, n, d) for it in range(100))"
      ]
    },
    {
      "cell_type": "code",
      "execution_count": 34,
      "id": "33",
      "metadata": {
        "colab": {
          "base_uri": "https://localhost:8080/",
          "height": 430
        },
        "id": "33",
        "outputId": "5e93cea7-08b0-4af3-d76c-1139898d9f3f"
      },
      "outputs": [
        {
          "output_type": "display_data",
          "data": {
            "text/plain": [
              "<Figure size 640x480 with 1 Axes>"
            ],
            "image/png": "[encoded data removed]"
          },
          "metadata": {}
        }
      ],
      "source": [
        "plt.hist(res)\n",
        "plt.show()"
      ]
    },
    {
      "cell_type": "code",
      "execution_count": 35,
      "id": "34",
      "metadata": {
        "colab": {
          "base_uri": "https://localhost:8080/"
        },
        "id": "34",
        "outputId": "43fcc78e-525d-4d49-a274-97ae3c994acc"
      },
      "outputs": [
        {
          "output_type": "execute_result",
          "data": {
            "text/plain": [
              "(0.050475677805303154, 0.028884200739207194)"
            ]
          },
          "metadata": {},
          "execution_count": 35
        }
      ],
      "source": [
        "# bias is comparable and larger than standard deviation.\n",
        "# Even if we could estimate the standard deviation, confidence intervals would undercover\n",
        "1 - np.mean(res), np.std(res)"
      ]
    },
    {
      "cell_type": "code",
      "execution_count": 36,
      "id": "35",
      "metadata": {
        "colab": {
          "base_uri": "https://localhost:8080/"
        },
        "id": "35",
        "outputId": "c64a31c1-c343-4466-b006-b6b753241bdf"
      },
      "outputs": [
        {
          "output_type": "stream",
          "name": "stderr",
          "text": [
            "[Parallel(n_jobs=-1)]: Using backend LokyBackend with 2 concurrent workers.\n",
            "[Parallel(n_jobs=-1)]: Done  52 tasks      | elapsed:    3.9s\n",
            "[Parallel(n_jobs=-1)]: Done 100 out of 100 | elapsed:    8.6s finished\n"
          ]
        }
      ],
      "source": [
        "# Let's try adding a post-Lasso OLS step and construct confidence\n",
        "# intervals ignoring the Lasso step\n",
        "from joblib import Parallel, delayed\n",
        "\n",
        "\n",
        "def exp(it, n, d):\n",
        "    np.random.seed(it)\n",
        "    y, D, X = gen_data(n, d, .2, delta, base)\n",
        "    # run a big lasso y ~ D, X\n",
        "    DX = np.hstack([D.reshape(-1, 1), X])\n",
        "    coefs = RLasso().fit(DX, y).coef_[1:]\n",
        "    # run OLS on y ~ D, X[chosen by lasso]\n",
        "    # calculate standard error as if lasso step never happened\n",
        "    hat, stderr = partialling_out(y, D - np.mean(D), X[:, np.abs(coefs) > 0.0])\n",
        "    ci = [hat - 1.96 * stderr, hat + 1.96 * stderr]\n",
        "    return hat, stderr, (ci[0] <= delta) & (delta <= ci[1])\n",
        "\n",
        "\n",
        "res = Parallel(n_jobs=-1, verbose=3)(delayed(exp)(it, n, d) for it in range(100))"
      ]
    },
    {
      "cell_type": "code",
      "execution_count": 37,
      "id": "36",
      "metadata": {
        "id": "36"
      },
      "outputs": [],
      "source": [
        "hats, stderrs, cov = zip(*res)"
      ]
    },
    {
      "cell_type": "code",
      "execution_count": 38,
      "id": "37",
      "metadata": {
        "colab": {
          "base_uri": "https://localhost:8080/"
        },
        "id": "37",
        "outputId": "12602e0a-92c5-4768-aa57-b1056f27ec6b"
      },
      "outputs": [
        {
          "output_type": "execute_result",
          "data": {
            "text/plain": [
              "0.84"
            ]
          },
          "metadata": {},
          "execution_count": 38
        }
      ],
      "source": [
        "np.mean(cov)  # not bad"
      ]
    },
    {
      "cell_type": "code",
      "execution_count": 39,
      "id": "38",
      "metadata": {
        "colab": {
          "base_uri": "https://localhost:8080/",
          "height": 430
        },
        "id": "38",
        "outputId": "f0da0a92-bedb-473a-fd5e-a6d3e944bc31"
      },
      "outputs": [
        {
          "output_type": "display_data",
          "data": {
            "text/plain": [
              "<Figure size 640x480 with 1 Axes>"
            ],
            "image/png": "[encoded data removed]"
          },
          "metadata": {}
        }
      ],
      "source": [
        "plt.hist(hats)\n",
        "plt.show()"
      ]
    },
    {
      "cell_type": "code",
      "execution_count": 40,
      "id": "39",
      "metadata": {
        "colab": {
          "base_uri": "https://localhost:8080/"
        },
        "id": "39",
        "outputId": "1d732257-75f6-47a7-b25c-511617c7e874"
      },
      "outputs": [
        {
          "output_type": "execute_result",
          "data": {
            "text/plain": [
              "(0.010426863603987369, 0.02935721315771419)"
            ]
          },
          "metadata": {},
          "execution_count": 40
        }
      ],
      "source": [
        "1 - np.mean(hats), np.std(hats)  # quite un-biased; bias < standard deviation"
      ]
    },
    {
      "cell_type": "code",
      "execution_count": 41,
      "id": "40",
      "metadata": {
        "colab": {
          "base_uri": "https://localhost:8080/"
        },
        "id": "40",
        "outputId": "a46b53f0-da8b-49fa-b12a-739510e58e00"
      },
      "outputs": [
        {
          "output_type": "execute_result",
          "data": {
            "text/plain": [
              "0.021836912547711952"
            ]
          },
          "metadata": {},
          "execution_count": 41
        }
      ],
      "source": [
        "# we under-estimated a bit the uncertainty; smaller estimated stderr than true std.\n",
        "# this is most prob a finite sample error, from ignoring the lasso variable selection step\n",
        "# this is an RCT and so even post lasso ols is Neyman orthogonal. We should expect good behavior.\n",
        "np.mean(stderrs)"
      ]
    },
    {
      "cell_type": "code",
      "execution_count": 42,
      "id": "41",
      "metadata": {
        "id": "41"
      },
      "outputs": [],
      "source": [
        "# But what if we are not in an RCT!?\n",
        "def gen_data(n, d, p, delta, base):\n",
        "    X = np.random.normal(0, 1, size=(n, d))\n",
        "    D = X[:, 0] + np.random.normal(0, 1 / 4, size=(n,))\n",
        "    y = delta * D + base - X[:, 0] + np.random.normal(0, 1, size=(n,))\n",
        "    return y, D, X"
      ]
    },
    {
      "cell_type": "code",
      "execution_count": 43,
      "id": "42",
      "metadata": {
        "colab": {
          "base_uri": "https://localhost:8080/"
        },
        "id": "42",
        "outputId": "210eb659-a08d-46c1-f356-8d5d024dc7da"
      },
      "outputs": [
        {
          "output_type": "stream",
          "name": "stderr",
          "text": [
            "[Parallel(n_jobs=-1)]: Using backend LokyBackend with 2 concurrent workers.\n",
            "[Parallel(n_jobs=-1)]: Done  52 tasks      | elapsed:    7.0s\n",
            "[Parallel(n_jobs=-1)]: Done 100 out of 100 | elapsed:   11.8s finished\n"
          ]
        }
      ],
      "source": [
        "from joblib import Parallel, delayed\n",
        "\n",
        "\n",
        "def exp(it, n, d):\n",
        "    np.random.seed(it)\n",
        "    y, D, X = gen_data(n, d, .2, delta, base)\n",
        "    DX = np.hstack([D.reshape(-1, 1), X])\n",
        "    coefs = RLasso().fit(DX, y).coef_[1:]\n",
        "    hat, stderr = partialling_out(y, D, X[:, np.abs(coefs) > 0.0])\n",
        "    ci = [hat - 1.96 * stderr, hat + 1.96 * stderr]\n",
        "    return hat, stderr, (ci[0] <= delta) & (delta <= ci[1])\n",
        "\n",
        "\n",
        "res = Parallel(n_jobs=-1, verbose=3)(delayed(exp)(it, n, d) for it in range(100))"
      ]
    },
    {
      "cell_type": "code",
      "execution_count": 44,
      "id": "43",
      "metadata": {
        "id": "43"
      },
      "outputs": [],
      "source": [
        "hats, stderrs, cov = zip(*res)"
      ]
    },
    {
      "cell_type": "code",
      "execution_count": 45,
      "id": "44",
      "metadata": {
        "colab": {
          "base_uri": "https://localhost:8080/"
        },
        "id": "44",
        "outputId": "8c66fd29-86c3-42af-b02f-ca7f7f868560"
      },
      "outputs": [
        {
          "output_type": "execute_result",
          "data": {
            "text/plain": [
              "0.06"
            ]
          },
          "metadata": {},
          "execution_count": 45
        }
      ],
      "source": [
        "np.mean(cov)  # Oops! Post Lasso OLS severely undercovers; It is not Neyman orthogonal when D is correlated with X"
      ]
    },
    {
      "cell_type": "code",
      "execution_count": 46,
      "id": "45",
      "metadata": {
        "colab": {
          "base_uri": "https://localhost:8080/",
          "height": 430
        },
        "id": "45",
        "outputId": "2f757fc9-c0ef-4a25-d4e4-d5af7216e337"
      },
      "outputs": [
        {
          "output_type": "display_data",
          "data": {
            "text/plain": [
              "<Figure size 640x480 with 1 Axes>"
            ],
            "image/png": "[encoded data removed]"
          },
          "metadata": {}
        }
      ],
      "source": [
        "plt.hist(hats)\n",
        "plt.show()"
      ]
    },
    {
      "cell_type": "code",
      "execution_count": 47,
      "id": "46",
      "metadata": {
        "colab": {
          "base_uri": "https://localhost:8080/"
        },
        "id": "46",
        "outputId": "4149ea69-b005-4cb3-9ac5-f76fdc15d2d9"
      },
      "outputs": [
        {
          "output_type": "execute_result",
          "data": {
            "text/plain": [
              "0.13314746199317987"
            ]
          },
          "metadata": {},
          "execution_count": 47
        }
      ],
      "source": [
        "np.mean(hats)  # very heavily biased"
      ]
    },
    {
      "cell_type": "code",
      "execution_count": 48,
      "id": "47",
      "metadata": {
        "colab": {
          "base_uri": "https://localhost:8080/"
        },
        "id": "47",
        "outputId": "a1305832-2768-42a5-9653-db7d54abecf6"
      },
      "outputs": [
        {
          "output_type": "stream",
          "name": "stderr",
          "text": [
            "[Parallel(n_jobs=-1)]: Using backend LokyBackend with 2 concurrent workers.\n",
            "[Parallel(n_jobs=-1)]: Done  28 tasks      | elapsed:    4.7s\n",
            "[Parallel(n_jobs=-1)]: Done 100 out of 100 | elapsed:   17.8s finished\n"
          ]
        }
      ],
      "source": [
        "# But let's try the Neyman orthogonal Double Lasso\n",
        "from joblib import Parallel, delayed\n",
        "\n",
        "\n",
        "def exp(it, n, d):\n",
        "    np.random.seed(it)\n",
        "    y, D, X = gen_data(n, d, .2, delta, base)\n",
        "    hat, stderr = double_lasso(y, D, X)  # we apply the double lasso process\n",
        "    ci = [hat - 1.96 * stderr, hat + 1.96 * stderr]\n",
        "    return hat, stderr, (ci[0] <= delta) & (delta <= ci[1])\n",
        "\n",
        "\n",
        "res = Parallel(n_jobs=-1, verbose=3)(delayed(exp)(it, n, d) for it in range(100))\n",
        "hats, stderrs, cov = zip(*res)"
      ]
    },
    {
      "cell_type": "code",
      "execution_count": 49,
      "id": "48",
      "metadata": {
        "colab": {
          "base_uri": "https://localhost:8080/"
        },
        "id": "48",
        "outputId": "e36eaefc-affe-4785-fcbf-89bd4a06f87b"
      },
      "outputs": [
        {
          "output_type": "execute_result",
          "data": {
            "text/plain": [
              "0.92"
            ]
          },
          "metadata": {},
          "execution_count": 49
        }
      ],
      "source": [
        "np.mean(cov)  # great coverage"
      ]
    },
    {
      "cell_type": "code",
      "execution_count": 50,
      "id": "49",
      "metadata": {
        "colab": {
          "base_uri": "https://localhost:8080/"
        },
        "id": "49",
        "outputId": "40a54ea7-0163-4dcc-a39d-44e44ccb57f1"
      },
      "outputs": [
        {
          "output_type": "execute_result",
          "data": {
            "text/plain": [
              "(-0.012935262655555224, 0.4208056138818759)"
            ]
          },
          "metadata": {},
          "execution_count": 50
        }
      ],
      "source": [
        "1 - np.mean(hats), np.std(hats)  # very small bias compared to standard deviation"
      ]
    },
    {
      "cell_type": "code",
      "execution_count": 51,
      "id": "50",
      "metadata": {
        "colab": {
          "base_uri": "https://localhost:8080/"
        },
        "id": "50",
        "outputId": "41f911b6-de5c-4524-89f9-9374d962e3e8"
      },
      "outputs": [
        {
          "output_type": "execute_result",
          "data": {
            "text/plain": [
              "0.3910698115940304"
            ]
          },
          "metadata": {},
          "execution_count": 51
        }
      ],
      "source": [
        "np.mean(stderrs)  # accurate estimation of uncertainty"
      ]
    },
    {
      "cell_type": "code",
      "execution_count": 52,
      "id": "51",
      "metadata": {
        "colab": {
          "base_uri": "https://localhost:8080/",
          "height": 430
        },
        "id": "51",
        "outputId": "d68dfbf2-03e5-4509-cbe3-1b6ea6449a04"
      },
      "outputs": [
        {
          "output_type": "display_data",
          "data": {
            "text/plain": [
              "<Figure size 640x480 with 1 Axes>"
            ],
            "image/png": "[encoded data removed]"
          },
          "metadata": {}
        }
      ],
      "source": [
        "# Approximately normal distribution of estimates, centered at the truth\n",
        "plt.hist(hats)\n",
        "plt.show()"
      ]
    },
    {
      "cell_type": "code",
      "execution_count": null,
      "id": "52",
      "metadata": {
        "id": "52"
      },
      "outputs": [],
      "source": []
    },
    {
      "cell_type": "markdown",
      "source": [
        "# **Summary:**\n",
        "\n",
        "This last histogram shows how importan Neyman orthogonality is. Neyman orthogonality ensures estimation of treatment effect is unbiased and the standard errors represent an appropriate spread. As the histogram shows, the hats are centered around the true delta.Neyman orthogonality also allows an approximately normal distribution, allowing us to correctly use confidence intervals that is indicative of the variance of the estimator and reflect the variability in the treatment effect estimators. In previous histograms, the spread either wasn't centered around the delta or the spread was too wide or too narrow."
      ],
      "metadata": {
        "id": "_NlgpBxU5_nW"
      },
      "id": "_NlgpBxU5_nW"
    }
  ],
  "metadata": {
    "colab": {
      "provenance": []
    },
    "kernelspec": {
      "display_name": "Python 3 (ipykernel)",
      "language": "python",
      "name": "python3"
    },
    "language_info": {
      "codemirror_mode": {
        "name": "ipython",
        "version": 3
      },
      "file_extension": ".py",
      "mimetype": "text/x-python",
      "name": "python",
      "nbconvert_exporter": "python",
      "pygments_lexer": "ipython3",
      "version": "3.11.5"
    }
  },
  "nbformat": 4,
  "nbformat_minor": 5
}